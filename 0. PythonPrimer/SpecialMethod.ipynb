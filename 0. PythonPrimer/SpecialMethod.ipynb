{
 "cells": [
  {
   "cell_type": "markdown",
   "metadata": {},
   "source": [
    "Python's Speical Method (p. 74)"
   ]
  },
  {
   "cell_type": "code",
   "execution_count": 4,
   "metadata": {},
   "outputs": [],
   "source": [
    "class Vector:\n",
    "    def __init__(self, dim):\n",
    "        self._dim = dim\n",
    "        self._container = [0] * dim\n",
    "    \n",
    "    def __len__(self):\n",
    "        return self._dim\n",
    "    \n",
    "    def __getitem__(self, k):\n",
    "        return self._container[k]\n",
    "    \n",
    "    def __setitem__(self, k, v):\n",
    "        self._container[k] = v\n",
    "    \n",
    "    def __add__(self, b):\n",
    "        ret = Vector(len(self))\n",
    "        for i in range(len(self)):\n",
    "            ret[i] = self[i] + b[i]\n",
    "        return ret\n",
    "    \n",
    "    def __str__(self):\n",
    "        return '<' + str(self._container)[1:-1] + '>'"
   ]
  },
  {
   "cell_type": "code",
   "execution_count": 8,
   "metadata": {},
   "outputs": [
    {
     "name": "stdout",
     "output_type": "stream",
     "text": [
      "<0, 0, 0, 0, 0>\n",
      "<0, 4, 0, 0, 0>\n",
      "0\n",
      "2\n",
      "0\n",
      "0\n",
      "0\n"
     ]
    }
   ],
   "source": [
    "v = Vector(5)\n",
    "print(v)\n",
    "v[1] = 2\n",
    "q = v + v\n",
    "print(q)\n",
    "\n",
    "for i in v:\n",
    "    print(i)"
   ]
  }
 ],
 "metadata": {
  "kernelspec": {
   "display_name": "Python 3",
   "language": "python",
   "name": "python3"
  },
  "language_info": {
   "codemirror_mode": {
    "name": "ipython",
    "version": 3
   },
   "file_extension": ".py",
   "mimetype": "text/x-python",
   "name": "python",
   "nbconvert_exporter": "python",
   "pygments_lexer": "ipython3",
   "version": "3.6.8"
  }
 },
 "nbformat": 4,
 "nbformat_minor": 2
}
