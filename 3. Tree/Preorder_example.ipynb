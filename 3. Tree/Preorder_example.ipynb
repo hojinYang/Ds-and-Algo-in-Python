{
 "cells": [
  {
   "cell_type": "code",
   "execution_count": 6,
   "metadata": {},
   "outputs": [],
   "source": [
    "from BinaryTree import *\n",
    "\n",
    "T = LinkedBinaryTree()\n",
    "\n",
    "root = T._add_root(\"Electronics R'Us\")\n",
    "\n",
    "randd = T._add_left(root, \"R&D\")\n",
    "sales = T._add_right(root, \"sales\")\n",
    "international = T._add_left(sales,\"Asia\")\n",
    "T._add_left(international, \"Japan\")\n",
    "T._add_right(international, \"Korea\")\n",
    "\n",
    "domestic = T._add_right(sales, \"Domestic\")"
   ]
  },
  {
   "cell_type": "code",
   "execution_count": 7,
   "metadata": {},
   "outputs": [
    {
     "name": "stdout",
     "output_type": "stream",
     "text": [
      "Electronics R'Us\n",
      "R&D\n",
      "sales\n",
      "Asia\n",
      "Japan\n",
      "Korea\n",
      "Domestic\n"
     ]
    }
   ],
   "source": [
    "for p in T.preorder():\n",
    "    print(p.element())"
   ]
  },
  {
   "cell_type": "code",
   "execution_count": 8,
   "metadata": {},
   "outputs": [],
   "source": [
    "def preorder_indent(T, p, d):\n",
    "    print('  '*d + p.element())\n",
    "    for c in T.children(p):\n",
    "        preorder_indent(T, c, d+1)"
   ]
  },
  {
   "cell_type": "code",
   "execution_count": 9,
   "metadata": {},
   "outputs": [
    {
     "name": "stdout",
     "output_type": "stream",
     "text": [
      "Electronics R'Us\n",
      "  R&D\n",
      "  sales\n",
      "    Asia\n",
      "      Japan\n",
      "      Korea\n",
      "    Domestic\n"
     ]
    }
   ],
   "source": [
    "preorder_indent(T, T.root(), 0)"
   ]
  },
  {
   "cell_type": "code",
   "execution_count": 16,
   "metadata": {},
   "outputs": [],
   "source": [
    "def preorder_label(T, p, label):\n",
    "    print(label + p.element())\n",
    "    sub = 1\n",
    "    for c in T.children(p):\n",
    "        preorder_label(T, c, '  ' + label+str(sub)+'.')\n",
    "        sub += 1\n",
    "        "
   ]
  },
  {
   "cell_type": "code",
   "execution_count": 17,
   "metadata": {},
   "outputs": [
    {
     "name": "stdout",
     "output_type": "stream",
     "text": [
      "Electronics R'Us\n",
      "  1.R&D\n",
      "  2.sales\n",
      "    2.1.Asia\n",
      "      2.1.1.Japan\n",
      "      2.1.2.Korea\n",
      "    2.2.Domestic\n"
     ]
    }
   ],
   "source": [
    "preorder_label(T,T.root(), '')"
   ]
  },
  {
   "cell_type": "code",
   "execution_count": 31,
   "metadata": {},
   "outputs": [],
   "source": [
    "def parenthesize(T, p):\n",
    "    print(p.element(), end='')\n",
    "    if not T.is_leaf(p):\n",
    "        is_first = True\n",
    "        for c in T.children(p):\n",
    "            sep = ' (' if is_first else ', '\n",
    "            print(sep, end='')\n",
    "            is_first = False\n",
    "            parenthesize(T, c)\n",
    "        print(')',end='')"
   ]
  },
  {
   "cell_type": "code",
   "execution_count": 32,
   "metadata": {},
   "outputs": [
    {
     "name": "stdout",
     "output_type": "stream",
     "text": [
      "Electronics R'Us (R&D, sales (Asia (Japan, Korea), Domestic))"
     ]
    }
   ],
   "source": [
    "parenthesize(T, T.root())"
   ]
  }
 ],
 "metadata": {
  "kernelspec": {
   "display_name": "Python 3",
   "language": "python",
   "name": "python3"
  },
  "language_info": {
   "codemirror_mode": {
    "name": "ipython",
    "version": 3
   },
   "file_extension": ".py",
   "mimetype": "text/x-python",
   "name": "python",
   "nbconvert_exporter": "python",
   "pygments_lexer": "ipython3",
   "version": "3.6.8"
  }
 },
 "nbformat": 4,
 "nbformat_minor": 2
}
